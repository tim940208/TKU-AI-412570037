{
  "nbformat": 4,
  "nbformat_minor": 0,
  "metadata": {
    "colab": {
      "provenance": [],
      "authorship_tag": "ABX9TyM3hxRxsLvyQO3tVFFOEUZW",
      "include_colab_link": true
    },
    "kernelspec": {
      "name": "python3",
      "display_name": "Python 3"
    },
    "language_info": {
      "name": "python"
    }
  },
  "cells": [
    {
      "cell_type": "markdown",
      "metadata": {
        "id": "view-in-github",
        "colab_type": "text"
      },
      "source": [
        "<a href=\"https://colab.research.google.com/github/tim940208/TKU-AI-412570037/blob/main/1205.ipynb\" target=\"_parent\"><img src=\"https://colab.research.google.com/assets/colab-badge.svg\" alt=\"Open In Colab\"/></a>"
      ]
    },
    {
      "cell_type": "code",
      "execution_count": 1,
      "metadata": {
        "colab": {
          "base_uri": "https://localhost:8080/"
        },
        "id": "YX-46fdYX62v",
        "outputId": "233f3d6b-95e7-4aef-b170-2ce3d03336fa"
      },
      "outputs": [
        {
          "name": "stdout",
          "output_type": "stream",
          "text": [
            "請輸入數字111\n"
          ]
        }
      ],
      "source": [
        "b = int(input(\"請輸入數字\"))"
      ]
    },
    {
      "cell_type": "code",
      "source": [
        "b + 1"
      ],
      "metadata": {
        "colab": {
          "base_uri": "https://localhost:8080/"
        },
        "id": "rmKkOXDtYxLE",
        "outputId": "2b633dfd-a7b4-4f48-daf1-945ff3df9eb1"
      },
      "execution_count": 2,
      "outputs": [
        {
          "output_type": "execute_result",
          "data": {
            "text/plain": [
              "112"
            ]
          },
          "metadata": {},
          "execution_count": 2
        }
      ]
    },
    {
      "cell_type": "code",
      "source": [
        "國文 = int(input(\"請輸入國文成績\"))\n",
        "英文 = int(input(\"請輸入英文成績\"))\n",
        "數學 = int(input(\"請輸入數學成績\"))\n",
        "print('你的成績總分為:',國文+英文+數學,sep='\\n')"
      ],
      "metadata": {
        "colab": {
          "base_uri": "https://localhost:8080/"
        },
        "id": "GVX-WvRBYxOK",
        "outputId": "73fe5094-1cb9-4b01-cd9c-9fde85c44010"
      },
      "execution_count": 12,
      "outputs": [
        {
          "output_type": "stream",
          "name": "stdout",
          "text": [
            "請輸入國文成績50\n",
            "請輸入英文成績60\n",
            "請輸入數學成績70\n",
            "你的成績總分為:\n",
            "180\n"
          ]
        }
      ]
    },
    {
      "cell_type": "code",
      "source": [
        "print(12+3,12-3,12*3,32/5,32%5,32//5,7**2,sep=' , ')"
      ],
      "metadata": {
        "colab": {
          "base_uri": "https://localhost:8080/"
        },
        "id": "J6RYcSeYbIMC",
        "outputId": "ced4c79c-50f4-48ad-dbf0-6340747de629"
      },
      "execution_count": 15,
      "outputs": [
        {
          "output_type": "stream",
          "name": "stdout",
          "text": [
            "15 , 9 , 36 , 6.4 , 2 , 6 , 49\n"
          ]
        }
      ]
    },
    {
      "cell_type": "code",
      "source": [
        "上底 = int(input(\"請輸入梯形上底長度：\"))\n",
        "下底 = int(input(\"請輸入梯形下底長度：\"))\n",
        "高度 = int(input(\"請輸入梯形的高度：\"))\n",
        "print('上底長度為:',上底,'下底長度為:',下底,'高度為',高度,'梯形面積為',(上底+下底)*高度/2)"
      ],
      "metadata": {
        "colab": {
          "base_uri": "https://localhost:8080/"
        },
        "id": "FVGZ0cxPa24t",
        "outputId": "33d5f601-7d69-4b6f-82ac-1e74af5d439b"
      },
      "execution_count": 16,
      "outputs": [
        {
          "output_type": "stream",
          "name": "stdout",
          "text": [
            "請輸入梯形上底長度：3\n",
            "請輸入梯形下底長度：4\n",
            "請輸入梯形的高度：3\n",
            "上底長度為: 3 下底長度為: 4 高度為 3 梯形面積為 10.5\n"
          ]
        }
      ]
    },
    {
      "cell_type": "code",
      "source": [
        "身高 = int(input(\"請輸入你的身高(cm)：\"))\n",
        "體重 = int(input(\"請輸入你的體重(kg)：\"))\n",
        "print('身高',身高,'公分',',','體重',體重,'公斤','BMI值為',體重/(身高/100)**2)"
      ],
      "metadata": {
        "colab": {
          "base_uri": "https://localhost:8080/"
        },
        "id": "2D_YV0Jvdf8b",
        "outputId": "696ae704-eb74-4f81-9966-1f9ce07bff79"
      },
      "execution_count": 22,
      "outputs": [
        {
          "output_type": "stream",
          "name": "stdout",
          "text": [
            "請輸入你的身高(cm)：180\n",
            "請輸入你的體重(kg)：80\n",
            "身高 180 公分 , 體重 80 公斤 BMI值為 24.691358024691358\n"
          ]
        }
      ]
    },
    {
      "cell_type": "code",
      "source": [
        "print((6+9==2+13),(8+9==2+13),(8+9!=2+13),(6+9!=2+13),(8+9>2+13),(6+9>2+13),(5+9<2+13),(8+9<2+13),(6+9>=2+13),(3+9>=2+13),(3+9<=2+13),(8+9<=2+13),sep=' , ')"
      ],
      "metadata": {
        "colab": {
          "base_uri": "https://localhost:8080/"
        },
        "id": "dOA_Xf0AfaUc",
        "outputId": "26a6cf6e-3473-4915-c7fe-282baaa9e257"
      },
      "execution_count": 33,
      "outputs": [
        {
          "output_type": "stream",
          "name": "stdout",
          "text": [
            "True , False , True , False , True , False , True , False , True , False , True , False\n"
          ]
        }
      ]
    }
  ]
}